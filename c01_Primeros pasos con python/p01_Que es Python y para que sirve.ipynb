{
 "cells": [
  {
   "cell_type": "markdown",
   "id": "05db5502",
   "metadata": {},
   "source": [
    "# ¿Que es Python y para que sirve?"
   ]
  },
  {
   "cell_type": "markdown",
   "id": "fb80427c",
   "metadata": {},
   "source": [
    "**Python** es un lenguaje de programación **interpretado, de alto nivel y multiparadigma** (soporta programación orientada a objetos, funcional y procedural). Creado por Guido van Rossum en 1991, destaca por su **sintaxis clara y legible**, similar al inglés, lo que lo hace ideal para principiantes y profesionales.  \n",
    "\n",
    "### **¿Para qué sirve?**  \n",
    "Python es **extremadamente versátil**. Estos son sus usos principales:  \n",
    "\n",
    "1. **Desarrollo Web:**  \n",
    "   - Con frameworks como **Django** (completo) o **Flask** (ligero).  \n",
    "   - Ejemplos: Instagram, Pinterest, Spotify (partes del backend).  \n",
    "\n",
    "2. **Ciencia de Datos y Análisis:**  \n",
    "   - Librerías como **Pandas** (análisis), **NumPy** (cálculos numéricos) y **Matplotlib** (visualización).  \n",
    "   - Usado en finanzas, investigación científica y negocios.  \n",
    "\n",
    "3. **Inteligencia Artificial (IA) y Machine Learning (ML):**  \n",
    "   - **TensorFlow**, **PyTorch** y **scikit-learn** permiten crear modelos predictivos, redes neuronales y sistemas de reconocimiento.  \n",
    "   - Ejemplos: chatbots, vehículos autónomos, recomendaciones de Netflix/Amazon.  \n",
    "\n",
    "4. **Automatización y Scripting:**  \n",
    "   - Automatizar tareas repetitivas: procesar archivos, enviar correos, web scraping (**Beautiful Soup**, **Selenium**).  \n",
    "\n",
    "5. **Desarrollo de Software:**  \n",
    "   - Crear aplicaciones de escritorio (**PyQt**, **Tkinter**) y herramientas de productividad.  \n",
    "\n",
    "6. **Ciberseguridad:**  \n",
    "   - Herramientas de pentesting, análisis de malware y automatización de pruebas de seguridad.  \n",
    "\n",
    "7. **Computación Científica:**  \n",
    "   - Simulaciones físicas, bioinformática y matemática avanzada (**SciPy**).  \n",
    "\n",
    "8. **Blockchain y Criptomonedas:**  \n",
    "   - Desarrollo de smart contracts y análisis de datos de cripto.  \n",
    "\n",
    "### **¿Por qué es tan popular?**  \n",
    "- **Fácil de aprender:** Sintaxis intuitiva y legible.  \n",
    "- **Comunidad enorme:** Miles de librerías gratuitas y soporte constante.  \n",
    "- **Multiplataforma:** Funciona en Windows, macOS, Linux y más.  \n",
    "- **Flexible:** Útil para proyectos pequeños (scripts) y sistemas complejos (IA).  \n",
    "\n",
    "**En resumen:** Python es una **navaja suiza** en el mundo de la programación. Su combinación de simplicidad, potencia y ecosistema lo hace indispensable en áreas como IA, web, automatización y análisis de datos. ¡Por eso es el lenguaje favorito de millones de desarrolladores! 🐍🚀"
   ]
  },
  {
   "cell_type": "code",
   "execution_count": 1,
   "id": "da21dd0b",
   "metadata": {},
   "outputs": [
    {
     "name": "stdout",
     "output_type": "stream",
     "text": [
      "120\n"
     ]
    }
   ],
   "source": [
    "### Ejemplo de código (legibilidad):  \n",
    "\n",
    "# Calcular el factorial de un número\n",
    "def factorial(n):\n",
    "    if n == 0:\n",
    "        return 1\n",
    "    else:\n",
    "        return n * factorial(n-1)\n",
    "\n",
    "print(factorial(5))  # Resultado: 120"
   ]
  }
 ],
 "metadata": {
  "kernelspec": {
   "display_name": "Python 3",
   "language": "python",
   "name": "python3"
  },
  "language_info": {
   "codemirror_mode": {
    "name": "ipython",
    "version": 3
   },
   "file_extension": ".py",
   "mimetype": "text/x-python",
   "name": "python",
   "nbconvert_exporter": "python",
   "pygments_lexer": "ipython3",
   "version": "3.12.3"
  }
 },
 "nbformat": 4,
 "nbformat_minor": 5
}
